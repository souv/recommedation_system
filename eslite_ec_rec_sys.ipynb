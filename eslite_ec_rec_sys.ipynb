{
 "cells": [
  {
   "cell_type": "code",
   "execution_count": 1,
   "metadata": {},
   "outputs": [
    {
     "ename": "FileNotFoundError",
     "evalue": "[Errno 2] No such file or directory: '/Users/lucaschang/Desktop/誠品生活/eslite_ec_data.csv'",
     "output_type": "error",
     "traceback": [
      "\u001b[0;31m---------------------------------------------------------------------------\u001b[0m",
      "\u001b[0;31mFileNotFoundError\u001b[0m                         Traceback (most recent call last)",
      "\u001b[0;32m<ipython-input-1-592d8c05e290>\u001b[0m in \u001b[0;36m<module>\u001b[0;34m\u001b[0m\n\u001b[1;32m      4\u001b[0m \u001b[0;32mimport\u001b[0m \u001b[0mnumpy\u001b[0m \u001b[0;32mas\u001b[0m \u001b[0mnp\u001b[0m\u001b[0;34m\u001b[0m\u001b[0;34m\u001b[0m\u001b[0m\n\u001b[1;32m      5\u001b[0m \u001b[0;34m\u001b[0m\u001b[0m\n\u001b[0;32m----> 6\u001b[0;31m \u001b[0meslite_db\u001b[0m \u001b[0;34m=\u001b[0m \u001b[0mpd\u001b[0m\u001b[0;34m.\u001b[0m\u001b[0mread_csv\u001b[0m\u001b[0;34m(\u001b[0m\u001b[0;34m'/Users/lucaschang/Desktop/誠品生活/eslite_ec_data.csv'\u001b[0m\u001b[0;34m)\u001b[0m\u001b[0;34m\u001b[0m\u001b[0;34m\u001b[0m\u001b[0m\n\u001b[0m\u001b[1;32m      7\u001b[0m \u001b[0;34m\u001b[0m\u001b[0m\n\u001b[1;32m      8\u001b[0m \u001b[0mprint\u001b[0m\u001b[0;34m(\u001b[0m\u001b[0meslite_db\u001b[0m\u001b[0;34m.\u001b[0m\u001b[0minfo\u001b[0m\u001b[0;34m(\u001b[0m\u001b[0;34m)\u001b[0m\u001b[0;34m)\u001b[0m\u001b[0;34m\u001b[0m\u001b[0;34m\u001b[0m\u001b[0m\n",
      "\u001b[0;32m/opt/anaconda3/lib/python3.8/site-packages/pandas/io/parsers.py\u001b[0m in \u001b[0;36mread_csv\u001b[0;34m(filepath_or_buffer, sep, delimiter, header, names, index_col, usecols, squeeze, prefix, mangle_dupe_cols, dtype, engine, converters, true_values, false_values, skipinitialspace, skiprows, skipfooter, nrows, na_values, keep_default_na, na_filter, verbose, skip_blank_lines, parse_dates, infer_datetime_format, keep_date_col, date_parser, dayfirst, cache_dates, iterator, chunksize, compression, thousands, decimal, lineterminator, quotechar, quoting, doublequote, escapechar, comment, encoding, dialect, error_bad_lines, warn_bad_lines, delim_whitespace, low_memory, memory_map, float_precision)\u001b[0m\n\u001b[1;32m    684\u001b[0m     )\n\u001b[1;32m    685\u001b[0m \u001b[0;34m\u001b[0m\u001b[0m\n\u001b[0;32m--> 686\u001b[0;31m     \u001b[0;32mreturn\u001b[0m \u001b[0m_read\u001b[0m\u001b[0;34m(\u001b[0m\u001b[0mfilepath_or_buffer\u001b[0m\u001b[0;34m,\u001b[0m \u001b[0mkwds\u001b[0m\u001b[0;34m)\u001b[0m\u001b[0;34m\u001b[0m\u001b[0;34m\u001b[0m\u001b[0m\n\u001b[0m\u001b[1;32m    687\u001b[0m \u001b[0;34m\u001b[0m\u001b[0m\n\u001b[1;32m    688\u001b[0m \u001b[0;34m\u001b[0m\u001b[0m\n",
      "\u001b[0;32m/opt/anaconda3/lib/python3.8/site-packages/pandas/io/parsers.py\u001b[0m in \u001b[0;36m_read\u001b[0;34m(filepath_or_buffer, kwds)\u001b[0m\n\u001b[1;32m    450\u001b[0m \u001b[0;34m\u001b[0m\u001b[0m\n\u001b[1;32m    451\u001b[0m     \u001b[0;31m# Create the parser.\u001b[0m\u001b[0;34m\u001b[0m\u001b[0;34m\u001b[0m\u001b[0;34m\u001b[0m\u001b[0m\n\u001b[0;32m--> 452\u001b[0;31m     \u001b[0mparser\u001b[0m \u001b[0;34m=\u001b[0m \u001b[0mTextFileReader\u001b[0m\u001b[0;34m(\u001b[0m\u001b[0mfp_or_buf\u001b[0m\u001b[0;34m,\u001b[0m \u001b[0;34m**\u001b[0m\u001b[0mkwds\u001b[0m\u001b[0;34m)\u001b[0m\u001b[0;34m\u001b[0m\u001b[0;34m\u001b[0m\u001b[0m\n\u001b[0m\u001b[1;32m    453\u001b[0m \u001b[0;34m\u001b[0m\u001b[0m\n\u001b[1;32m    454\u001b[0m     \u001b[0;32mif\u001b[0m \u001b[0mchunksize\u001b[0m \u001b[0;32mor\u001b[0m \u001b[0miterator\u001b[0m\u001b[0;34m:\u001b[0m\u001b[0;34m\u001b[0m\u001b[0;34m\u001b[0m\u001b[0m\n",
      "\u001b[0;32m/opt/anaconda3/lib/python3.8/site-packages/pandas/io/parsers.py\u001b[0m in \u001b[0;36m__init__\u001b[0;34m(self, f, engine, **kwds)\u001b[0m\n\u001b[1;32m    944\u001b[0m             \u001b[0mself\u001b[0m\u001b[0;34m.\u001b[0m\u001b[0moptions\u001b[0m\u001b[0;34m[\u001b[0m\u001b[0;34m\"has_index_names\"\u001b[0m\u001b[0;34m]\u001b[0m \u001b[0;34m=\u001b[0m \u001b[0mkwds\u001b[0m\u001b[0;34m[\u001b[0m\u001b[0;34m\"has_index_names\"\u001b[0m\u001b[0;34m]\u001b[0m\u001b[0;34m\u001b[0m\u001b[0;34m\u001b[0m\u001b[0m\n\u001b[1;32m    945\u001b[0m \u001b[0;34m\u001b[0m\u001b[0m\n\u001b[0;32m--> 946\u001b[0;31m         \u001b[0mself\u001b[0m\u001b[0;34m.\u001b[0m\u001b[0m_make_engine\u001b[0m\u001b[0;34m(\u001b[0m\u001b[0mself\u001b[0m\u001b[0;34m.\u001b[0m\u001b[0mengine\u001b[0m\u001b[0;34m)\u001b[0m\u001b[0;34m\u001b[0m\u001b[0;34m\u001b[0m\u001b[0m\n\u001b[0m\u001b[1;32m    947\u001b[0m \u001b[0;34m\u001b[0m\u001b[0m\n\u001b[1;32m    948\u001b[0m     \u001b[0;32mdef\u001b[0m \u001b[0mclose\u001b[0m\u001b[0;34m(\u001b[0m\u001b[0mself\u001b[0m\u001b[0;34m)\u001b[0m\u001b[0;34m:\u001b[0m\u001b[0;34m\u001b[0m\u001b[0;34m\u001b[0m\u001b[0m\n",
      "\u001b[0;32m/opt/anaconda3/lib/python3.8/site-packages/pandas/io/parsers.py\u001b[0m in \u001b[0;36m_make_engine\u001b[0;34m(self, engine)\u001b[0m\n\u001b[1;32m   1176\u001b[0m     \u001b[0;32mdef\u001b[0m \u001b[0m_make_engine\u001b[0m\u001b[0;34m(\u001b[0m\u001b[0mself\u001b[0m\u001b[0;34m,\u001b[0m \u001b[0mengine\u001b[0m\u001b[0;34m=\u001b[0m\u001b[0;34m\"c\"\u001b[0m\u001b[0;34m)\u001b[0m\u001b[0;34m:\u001b[0m\u001b[0;34m\u001b[0m\u001b[0;34m\u001b[0m\u001b[0m\n\u001b[1;32m   1177\u001b[0m         \u001b[0;32mif\u001b[0m \u001b[0mengine\u001b[0m \u001b[0;34m==\u001b[0m \u001b[0;34m\"c\"\u001b[0m\u001b[0;34m:\u001b[0m\u001b[0;34m\u001b[0m\u001b[0;34m\u001b[0m\u001b[0m\n\u001b[0;32m-> 1178\u001b[0;31m             \u001b[0mself\u001b[0m\u001b[0;34m.\u001b[0m\u001b[0m_engine\u001b[0m \u001b[0;34m=\u001b[0m \u001b[0mCParserWrapper\u001b[0m\u001b[0;34m(\u001b[0m\u001b[0mself\u001b[0m\u001b[0;34m.\u001b[0m\u001b[0mf\u001b[0m\u001b[0;34m,\u001b[0m \u001b[0;34m**\u001b[0m\u001b[0mself\u001b[0m\u001b[0;34m.\u001b[0m\u001b[0moptions\u001b[0m\u001b[0;34m)\u001b[0m\u001b[0;34m\u001b[0m\u001b[0;34m\u001b[0m\u001b[0m\n\u001b[0m\u001b[1;32m   1179\u001b[0m         \u001b[0;32melse\u001b[0m\u001b[0;34m:\u001b[0m\u001b[0;34m\u001b[0m\u001b[0;34m\u001b[0m\u001b[0m\n\u001b[1;32m   1180\u001b[0m             \u001b[0;32mif\u001b[0m \u001b[0mengine\u001b[0m \u001b[0;34m==\u001b[0m \u001b[0;34m\"python\"\u001b[0m\u001b[0;34m:\u001b[0m\u001b[0;34m\u001b[0m\u001b[0;34m\u001b[0m\u001b[0m\n",
      "\u001b[0;32m/opt/anaconda3/lib/python3.8/site-packages/pandas/io/parsers.py\u001b[0m in \u001b[0;36m__init__\u001b[0;34m(self, src, **kwds)\u001b[0m\n\u001b[1;32m   2006\u001b[0m         \u001b[0mkwds\u001b[0m\u001b[0;34m[\u001b[0m\u001b[0;34m\"usecols\"\u001b[0m\u001b[0;34m]\u001b[0m \u001b[0;34m=\u001b[0m \u001b[0mself\u001b[0m\u001b[0;34m.\u001b[0m\u001b[0musecols\u001b[0m\u001b[0;34m\u001b[0m\u001b[0;34m\u001b[0m\u001b[0m\n\u001b[1;32m   2007\u001b[0m \u001b[0;34m\u001b[0m\u001b[0m\n\u001b[0;32m-> 2008\u001b[0;31m         \u001b[0mself\u001b[0m\u001b[0;34m.\u001b[0m\u001b[0m_reader\u001b[0m \u001b[0;34m=\u001b[0m \u001b[0mparsers\u001b[0m\u001b[0;34m.\u001b[0m\u001b[0mTextReader\u001b[0m\u001b[0;34m(\u001b[0m\u001b[0msrc\u001b[0m\u001b[0;34m,\u001b[0m \u001b[0;34m**\u001b[0m\u001b[0mkwds\u001b[0m\u001b[0;34m)\u001b[0m\u001b[0;34m\u001b[0m\u001b[0;34m\u001b[0m\u001b[0m\n\u001b[0m\u001b[1;32m   2009\u001b[0m         \u001b[0mself\u001b[0m\u001b[0;34m.\u001b[0m\u001b[0munnamed_cols\u001b[0m \u001b[0;34m=\u001b[0m \u001b[0mself\u001b[0m\u001b[0;34m.\u001b[0m\u001b[0m_reader\u001b[0m\u001b[0;34m.\u001b[0m\u001b[0munnamed_cols\u001b[0m\u001b[0;34m\u001b[0m\u001b[0;34m\u001b[0m\u001b[0m\n\u001b[1;32m   2010\u001b[0m \u001b[0;34m\u001b[0m\u001b[0m\n",
      "\u001b[0;32mpandas/_libs/parsers.pyx\u001b[0m in \u001b[0;36mpandas._libs.parsers.TextReader.__cinit__\u001b[0;34m()\u001b[0m\n",
      "\u001b[0;32mpandas/_libs/parsers.pyx\u001b[0m in \u001b[0;36mpandas._libs.parsers.TextReader._setup_parser_source\u001b[0;34m()\u001b[0m\n",
      "\u001b[0;31mFileNotFoundError\u001b[0m: [Errno 2] No such file or directory: '/Users/lucaschang/Desktop/誠品生活/eslite_ec_data.csv'"
     ]
    }
   ],
   "source": [
    "import pandas as pd \n",
    "import scipy.sparse as sparse\n",
    "import implicit\n",
    "import numpy as np\n",
    "\n",
    "eslite_db = pd.read_csv('/Users/lucaschang/Desktop/誠品生活/eslite_ec_data.csv')\n",
    "\n",
    "print(eslite_db.info())"
   ]
  },
  {
   "cell_type": "code",
   "execution_count": null,
   "metadata": {},
   "outputs": [],
   "source": [
    "eslite_db['member_id'].value_counts()\n",
    "\n",
    "eslite_db[['member_id']].sort_values(by=['member_id'])"
   ]
  },
  {
   "cell_type": "code",
   "execution_count": 3,
   "metadata": {},
   "outputs": [
    {
     "data": {
      "text/plain": [
       "(262316,)"
      ]
     },
     "execution_count": 3,
     "metadata": {},
     "output_type": "execute_result"
    }
   ],
   "source": [
    "eslite_db.sub_order_item_id.unique().shape"
   ]
  },
  {
   "cell_type": "code",
   "execution_count": 18,
   "metadata": {},
   "outputs": [],
   "source": [
    "csr_matrix = sparse.csr_matrix(eslite_db[['member_id','product_id']].values)"
   ]
  },
  {
   "cell_type": "code",
   "execution_count": 20,
   "metadata": {},
   "outputs": [
    {
     "data": {
      "text/plain": [
       "(262316, 2)"
      ]
     },
     "execution_count": 20,
     "metadata": {},
     "output_type": "execute_result"
    }
   ],
   "source": [
    "csr_matrix.toarray().shape"
   ]
  },
  {
   "cell_type": "code",
   "execution_count": 10,
   "metadata": {},
   "outputs": [],
   "source": [
    "df1 = (eslite_db.head(100).assign(new = 1)\n",
    "         .drop_duplicates(subset=['product_id','member_id'])\n",
    "         .pivot('product_id','member_id','new')\n",
    "         .fillna(0)\n",
    "         .astype(int))"
   ]
  },
  {
   "cell_type": "code",
   "execution_count": 35,
   "metadata": {},
   "outputs": [
    {
     "name": "stdout",
     "output_type": "stream",
     "text": [
      "<class 'pandas.core.frame.DataFrame'>\n",
      "member_id   186795   334533   382875   434418   490200   617119   727488   \\\n",
      "product_id                                                                  \n",
      "1673340           0        0        0        0        0        0        0   \n",
      "2004135           0        0        0        0        0        0        0   \n",
      "2306677           0        0        0        0        0        0        0   \n",
      "2441919           0        0        0        0        0        0        0   \n",
      "2473874           0        0        0        0        0        0        0   \n",
      "2481219           0        0        0        0        0        0        0   \n",
      "2515318           0        0        0        0        0        0        0   \n",
      "2597098           0        0        0        0        0        0        0   \n",
      "2604024           0        0        0        0        0        0        0   \n",
      "2607960           0        0        0        0        0        0        0   \n",
      "\n",
      "member_id   788704   802106   926088   ...  3739106  3739266  3768984  \\\n",
      "product_id                             ...                              \n",
      "1673340           0        0        0  ...        0        0        0   \n",
      "2004135           0        0        0  ...        0        0        0   \n",
      "2306677           0        0        0  ...        0        0        0   \n",
      "2441919           0        0        0  ...        0        0        0   \n",
      "2473874           0        0        0  ...        0        0        0   \n",
      "2481219           0        0        0  ...        0        0        0   \n",
      "2515318           0        0        0  ...        0        0        0   \n",
      "2597098           0        0        0  ...        0        0        0   \n",
      "2604024           0        0        0  ...        0        0        0   \n",
      "2607960           0        0        0  ...        0        0        0   \n",
      "\n",
      "member_id   3792196  3793653  3793807  3793988  3794032  3794033  3794112  \n",
      "product_id                                                                 \n",
      "1673340           0        0        0        0        0        0        0  \n",
      "2004135           0        0        0        0        0        0        0  \n",
      "2306677           0        0        0        0        0        0        0  \n",
      "2441919           0        0        0        0        0        0        0  \n",
      "2473874           0        0        0        0        0        0        0  \n",
      "2481219           0        0        0        0        0        0        0  \n",
      "2515318           0        0        0        0        0        0        0  \n",
      "2597098           0        0        1        0        0        0        0  \n",
      "2604024           0        0        0        0        0        0        0  \n",
      "2607960           0        0        0        0        0        1        0  \n",
      "\n",
      "[10 rows x 47 columns]\n",
      "<bound method DataFrame.info of member_id   186795   334533   382875   434418   490200   617119   727488   \\\n",
      "product_id                                                                  \n",
      "1673340           0        0        0        0        0        0        0   \n",
      "2004135           0        0        0        0        0        0        0   \n",
      "2306677           0        0        0        0        0        0        0   \n",
      "2441919           0        0        0        0        0        0        0   \n",
      "2473874           0        0        0        0        0        0        0   \n",
      "...             ...      ...      ...      ...      ...      ...      ...   \n",
      "2890844           0        0        0        0        0        0        0   \n",
      "2890845           0        0        0        0        0        0        0   \n",
      "2890848           0        0        0        0        0        0        0   \n",
      "2892049           0        0        0        0        0        0        1   \n",
      "2898006           0        0        0        0        0        0        0   \n",
      "\n",
      "member_id   788704   802106   926088   ...  3739106  3739266  3768984  \\\n",
      "product_id                             ...                              \n",
      "1673340           0        0        0  ...        0        0        0   \n",
      "2004135           0        0        0  ...        0        0        0   \n",
      "2306677           0        0        0  ...        0        0        0   \n",
      "2441919           0        0        0  ...        0        0        0   \n",
      "2473874           0        0        0  ...        0        0        0   \n",
      "...             ...      ...      ...  ...      ...      ...      ...   \n",
      "2890844           0        0        0  ...        0        0        0   \n",
      "2890845           0        0        0  ...        0        0        0   \n",
      "2890848           0        0        0  ...        0        0        0   \n",
      "2892049           0        0        0  ...        0        0        0   \n",
      "2898006           0        1        0  ...        0        0        0   \n",
      "\n",
      "member_id   3792196  3793653  3793807  3793988  3794032  3794033  3794112  \n",
      "product_id                                                                 \n",
      "1673340           0        0        0        0        0        0        0  \n",
      "2004135           0        0        0        0        0        0        0  \n",
      "2306677           0        0        0        0        0        0        0  \n",
      "2441919           0        0        0        0        0        0        0  \n",
      "2473874           0        0        0        0        0        0        0  \n",
      "...             ...      ...      ...      ...      ...      ...      ...  \n",
      "2890844           0        1        0        0        0        0        0  \n",
      "2890845           0        1        0        0        0        0        0  \n",
      "2890848           0        1        0        0        0        0        0  \n",
      "2892049           0        0        0        0        0        0        0  \n",
      "2898006           0        0        0        0        0        0        0  \n",
      "\n",
      "[73 rows x 47 columns]>\n",
      "Int64Index([1673340, 2004135, 2306677, 2441919, 2473874, 2481219, 2515318,\n",
      "            2597098, 2604024, 2607960, 2645775, 2652293, 2652920, 2654437,\n",
      "            2664707, 2664714, 2666070, 2671100, 2688144, 2689356, 2696545,\n",
      "            2725388, 2764163, 2769429, 2781478, 2782488, 2791602, 2791603,\n",
      "            2792374, 2806157, 2812007, 2815856, 2832053, 2832080, 2841062,\n",
      "            2845902, 2846574, 2846919, 2847947, 2852700, 2852803, 2858487,\n",
      "            2868602, 2868954, 2870253, 2872202, 2873499, 2873500, 2874693,\n",
      "            2875178, 2876110, 2876297, 2876919, 2879782, 2879855, 2881516,\n",
      "            2883212, 2883272, 2886262, 2886265, 2887902, 2887968, 2887976,\n",
      "            2888709, 2889301, 2889733, 2890149, 2890828, 2890844, 2890845,\n",
      "            2890848, 2892049, 2898006],\n",
      "           dtype='int64', name='product_id')\n"
     ]
    }
   ],
   "source": [
    "print(type(df1))\n",
    "\n",
    "print(df1.head(10))\n",
    "\n",
    "print(df1.info)\n",
    "\n",
    "print(df1.index)"
   ]
  },
  {
   "cell_type": "code",
   "execution_count": 38,
   "metadata": {},
   "outputs": [],
   "source": [
    "#person product table"
   ]
  },
  {
   "cell_type": "code",
   "execution_count": 39,
   "metadata": {},
   "outputs": [],
   "source": [
    "mem_prod_df1 = (eslite_db.head(100).assign(new = 1)\n",
    "         .drop_duplicates(subset=['member_id','product_id'])\n",
    "         .pivot('member_id','product_id','new')\n",
    "         .fillna(0)\n",
    "         .astype(int))"
   ]
  },
  {
   "cell_type": "code",
   "execution_count": 40,
   "metadata": {},
   "outputs": [
    {
     "name": "stdout",
     "output_type": "stream",
     "text": [
      "<class 'pandas.core.frame.DataFrame'>\n",
      "product_id  1673340  2004135  2306677  2441919  2473874  2481219  2515318  \\\n",
      "member_id                                                                   \n",
      "186795            0        0        0        0        0        0        0   \n",
      "334533            0        0        0        0        0        0        0   \n",
      "382875            0        0        0        0        0        0        0   \n",
      "434418            0        0        0        0        0        0        0   \n",
      "490200            0        0        0        0        0        0        0   \n",
      "617119            0        0        0        0        0        0        0   \n",
      "727488            0        0        0        0        0        0        0   \n",
      "788704            0        0        0        0        0        0        0   \n",
      "802106            0        0        0        0        0        0        0   \n",
      "926088            0        0        0        0        0        0        0   \n",
      "\n",
      "product_id  2597098  2604024  2607960  ...  2888709  2889301  2889733  \\\n",
      "member_id                              ...                              \n",
      "186795            0        0        0  ...        0        0        0   \n",
      "334533            0        0        0  ...        0        0        0   \n",
      "382875            0        0        0  ...        0        0        0   \n",
      "434418            0        0        0  ...        0        0        0   \n",
      "490200            0        0        0  ...        0        0        0   \n",
      "617119            0        0        0  ...        0        0        0   \n",
      "727488            0        0        0  ...        0        0        0   \n",
      "788704            0        0        0  ...        0        0        0   \n",
      "802106            0        0        0  ...        0        0        0   \n",
      "926088            0        0        0  ...        0        0        0   \n",
      "\n",
      "product_id  2890149  2890828  2890844  2890845  2890848  2892049  2898006  \n",
      "member_id                                                                  \n",
      "186795            0        0        0        0        0        0        0  \n",
      "334533            0        0        0        0        0        0        0  \n",
      "382875            0        0        0        0        0        0        0  \n",
      "434418            0        0        0        0        0        0        0  \n",
      "490200            0        0        0        0        0        0        0  \n",
      "617119            0        0        0        0        0        0        0  \n",
      "727488            0        0        0        0        0        1        0  \n",
      "788704            0        0        0        0        0        0        0  \n",
      "802106            0        0        0        0        0        0        1  \n",
      "926088            0        0        0        0        0        0        0  \n",
      "\n",
      "[10 rows x 73 columns]\n",
      "<bound method DataFrame.info of product_id  1673340  2004135  2306677  2441919  2473874  2481219  2515318  \\\n",
      "member_id                                                                   \n",
      "186795            0        0        0        0        0        0        0   \n",
      "334533            0        0        0        0        0        0        0   \n",
      "382875            0        0        0        0        0        0        0   \n",
      "434418            0        0        0        0        0        0        0   \n",
      "490200            0        0        0        0        0        0        0   \n",
      "617119            0        0        0        0        0        0        0   \n",
      "727488            0        0        0        0        0        0        0   \n",
      "788704            0        0        0        0        0        0        0   \n",
      "802106            0        0        0        0        0        0        0   \n",
      "926088            0        0        0        0        0        0        0   \n",
      "938379            0        0        0        0        0        0        0   \n",
      "968285            0        0        0        0        0        0        0   \n",
      "1003000           0        0        0        0        0        0        0   \n",
      "1022975           0        0        0        0        0        0        0   \n",
      "1024706           0        0        0        0        0        0        0   \n",
      "1100495           0        0        0        0        1        1        0   \n",
      "1262334           1        1        0        0        0        0        0   \n",
      "1310752           0        0        0        0        0        0        0   \n",
      "1329959           0        0        0        0        0        0        0   \n",
      "1388077           0        0        0        0        0        0        0   \n",
      "1428488           0        0        0        0        0        0        0   \n",
      "1543869           0        0        0        0        0        0        0   \n",
      "1555827           0        0        0        0        0        0        0   \n",
      "1688998           0        0        0        0        0        0        0   \n",
      "1960209           0        0        0        0        0        0        0   \n",
      "1962835           0        0        0        0        0        0        0   \n",
      "2090551           0        0        0        1        0        0        0   \n",
      "2239350           0        0        0        0        0        0        0   \n",
      "2533196           0        0        0        0        0        0        1   \n",
      "2536571           0        0        1        0        0        0        0   \n",
      "2955136           0        0        0        0        0        0        0   \n",
      "2969830           0        0        0        0        0        0        0   \n",
      "3025380           0        0        0        0        0        0        0   \n",
      "3115974           0        0        0        0        0        0        0   \n",
      "3313599           0        0        0        0        0        0        0   \n",
      "3336874           0        0        0        0        0        0        0   \n",
      "3398225           0        0        0        0        0        0        0   \n",
      "3739106           0        0        0        0        0        0        0   \n",
      "3739266           0        0        0        0        0        0        0   \n",
      "3768984           0        0        0        0        0        0        0   \n",
      "3792196           0        0        0        0        0        0        0   \n",
      "3793653           0        0        0        0        0        0        0   \n",
      "3793807           0        0        0        0        0        0        0   \n",
      "3793988           0        0        0        0        0        0        0   \n",
      "3794032           0        0        0        0        0        0        0   \n",
      "3794033           0        0        0        0        0        0        0   \n",
      "3794112           0        0        0        0        0        0        0   \n",
      "\n",
      "product_id  2597098  2604024  2607960  ...  2888709  2889301  2889733  \\\n",
      "member_id                              ...                              \n",
      "186795            0        0        0  ...        0        0        0   \n",
      "334533            0        0        0  ...        0        0        0   \n",
      "382875            0        0        0  ...        0        0        0   \n",
      "434418            0        0        0  ...        0        0        0   \n",
      "490200            0        0        0  ...        0        0        0   \n",
      "617119            0        0        0  ...        0        0        0   \n",
      "727488            0        0        0  ...        0        0        0   \n",
      "788704            0        0        0  ...        0        0        0   \n",
      "802106            0        0        0  ...        0        0        0   \n",
      "926088            0        0        0  ...        0        0        0   \n",
      "938379            0        0        0  ...        0        0        0   \n",
      "968285            0        1        0  ...        0        0        0   \n",
      "1003000           0        0        0  ...        0        0        0   \n",
      "1022975           0        0        0  ...        0        0        0   \n",
      "1024706           0        0        0  ...        0        0        0   \n",
      "1100495           0        0        0  ...        0        0        0   \n",
      "1262334           0        0        0  ...        1        0        0   \n",
      "1310752           0        0        0  ...        0        0        0   \n",
      "1329959           0        0        0  ...        0        0        0   \n",
      "1388077           0        0        0  ...        0        1        0   \n",
      "1428488           0        0        0  ...        0        0        0   \n",
      "1543869           0        0        0  ...        0        0        0   \n",
      "1555827           0        0        0  ...        0        0        0   \n",
      "1688998           0        0        0  ...        0        0        0   \n",
      "1960209           0        0        0  ...        0        0        0   \n",
      "1962835           0        0        0  ...        0        0        0   \n",
      "2090551           0        0        0  ...        0        0        0   \n",
      "2239350           0        0        0  ...        0        0        0   \n",
      "2533196           0        0        0  ...        0        0        0   \n",
      "2536571           0        0        0  ...        0        0        0   \n",
      "2955136           0        0        0  ...        0        0        0   \n",
      "2969830           0        0        0  ...        0        0        0   \n",
      "3025380           0        0        0  ...        0        0        0   \n",
      "3115974           0        0        0  ...        0        0        0   \n",
      "3313599           0        0        0  ...        0        0        0   \n",
      "3336874           0        0        0  ...        0        0        0   \n",
      "3398225           0        0        0  ...        0        0        1   \n",
      "3739106           0        0        0  ...        0        0        0   \n",
      "3739266           0        0        0  ...        0        0        0   \n",
      "3768984           0        0        0  ...        0        0        0   \n",
      "3792196           0        0        0  ...        0        0        0   \n",
      "3793653           0        0        0  ...        0        0        0   \n",
      "3793807           1        0        0  ...        0        0        0   \n",
      "3793988           0        0        0  ...        0        0        0   \n",
      "3794032           0        0        0  ...        0        0        0   \n",
      "3794033           0        0        1  ...        0        0        0   \n",
      "3794112           0        0        0  ...        0        0        0   \n",
      "\n",
      "product_id  2890149  2890828  2890844  2890845  2890848  2892049  2898006  \n",
      "member_id                                                                  \n",
      "186795            0        0        0        0        0        0        0  \n",
      "334533            0        0        0        0        0        0        0  \n",
      "382875            0        0        0        0        0        0        0  \n",
      "434418            0        0        0        0        0        0        0  \n",
      "490200            0        0        0        0        0        0        0  \n",
      "617119            0        0        0        0        0        0        0  \n",
      "727488            0        0        0        0        0        1        0  \n",
      "788704            0        0        0        0        0        0        0  \n",
      "802106            0        0        0        0        0        0        1  \n",
      "926088            0        0        0        0        0        0        0  \n",
      "938379            0        0        0        0        0        1        0  \n",
      "968285            0        0        0        0        0        0        0  \n",
      "1003000           0        0        0        0        0        0        0  \n",
      "1022975           0        1        0        0        0        0        0  \n",
      "1024706           0        0        0        0        0        0        0  \n",
      "1100495           0        0        0        0        0        0        0  \n",
      "1262334           0        0        0        0        0        0        0  \n",
      "1310752           0        0        0        0        0        1        0  \n",
      "1329959           0        0        0        0        0        0        0  \n",
      "1388077           0        0        0        0        0        0        0  \n",
      "1428488           0        0        0        0        0        0        0  \n",
      "1543869           0        1        0        0        0        0        0  \n",
      "1555827           0        0        0        0        0        0        0  \n",
      "1688998           0        0        0        0        0        0        0  \n",
      "1960209           0        0        0        0        0        0        0  \n",
      "1962835           0        0        0        0        0        0        0  \n",
      "2090551           0        0        0        0        0        0        0  \n",
      "2239350           0        0        0        0        0        0        0  \n",
      "2533196           0        0        0        0        0        0        0  \n",
      "2536571           0        1        0        0        0        0        0  \n",
      "2955136           0        0        0        0        0        0        0  \n",
      "2969830           0        0        0        0        0        0        0  \n",
      "3025380           0        0        0        0        0        0        0  \n",
      "3115974           0        0        0        0        0        0        0  \n",
      "3313599           0        0        0        0        0        0        0  \n",
      "3336874           0        0        0        0        0        0        0  \n",
      "3398225           0        0        0        0        0        0        0  \n",
      "3739106           0        0        0        0        0        0        0  \n",
      "3739266           1        0        0        0        0        0        0  \n",
      "3768984           0        0        0        0        0        0        0  \n",
      "3792196           0        0        0        0        0        0        0  \n",
      "3793653           0        0        1        1        1        0        0  \n",
      "3793807           0        0        0        0        0        0        0  \n",
      "3793988           0        0        0        0        0        0        0  \n",
      "3794032           0        0        0        0        0        0        0  \n",
      "3794033           0        0        0        0        0        0        0  \n",
      "3794112           0        0        0        0        0        0        0  \n",
      "\n",
      "[47 rows x 73 columns]>\n",
      "Int64Index([ 186795,  334533,  382875,  434418,  490200,  617119,  727488,\n",
      "             788704,  802106,  926088,  938379,  968285, 1003000, 1022975,\n",
      "            1024706, 1100495, 1262334, 1310752, 1329959, 1388077, 1428488,\n",
      "            1543869, 1555827, 1688998, 1960209, 1962835, 2090551, 2239350,\n",
      "            2533196, 2536571, 2955136, 2969830, 3025380, 3115974, 3313599,\n",
      "            3336874, 3398225, 3739106, 3739266, 3768984, 3792196, 3793653,\n",
      "            3793807, 3793988, 3794032, 3794033, 3794112],\n",
      "           dtype='int64', name='member_id')\n"
     ]
    }
   ],
   "source": [
    "print(type(mem_prod_df1))\n",
    "\n",
    "print(mem_prod_df1.head(10))\n",
    "\n",
    "print(mem_prod_df1.info)\n",
    "\n",
    "print(mem_prod_df1.index)"
   ]
  },
  {
   "cell_type": "code",
   "execution_count": 12,
   "metadata": {},
   "outputs": [],
   "source": [
    "df1_csr = sparse.csr_matrix(df1)"
   ]
  },
  {
   "cell_type": "code",
   "execution_count": 41,
   "metadata": {},
   "outputs": [],
   "source": [
    "mem_prod_df1_csr = sparse.csr_matrix(mem_prod_df1)"
   ]
  },
  {
   "cell_type": "code",
   "execution_count": 15,
   "metadata": {},
   "outputs": [
    {
     "name": "stderr",
     "output_type": "stream",
     "text": [
      "WARNING:root:Intel MKL BLAS detected. Its highly recommend to set the environment variable 'export MKL_NUM_THREADS=1' to disable its internal multithreading\n"
     ]
    }
   ],
   "source": [
    "model = implicit.als.AlternatingLeastSquares(factors=20, regularization=0.1, iterations=50)"
   ]
  },
  {
   "cell_type": "code",
   "execution_count": 16,
   "metadata": {},
   "outputs": [
    {
     "data": {
      "application/vnd.jupyter.widget-view+json": {
       "model_id": "cfda73f577bf4720b81ac728b5b4f200",
       "version_major": 2,
       "version_minor": 0
      },
      "text/plain": [
       "HBox(children=(HTML(value=''), FloatProgress(value=0.0, max=50.0), HTML(value='')))"
      ]
     },
     "metadata": {},
     "output_type": "display_data"
    },
    {
     "name": "stdout",
     "output_type": "stream",
     "text": [
      "\n"
     ]
    }
   ],
   "source": [
    "alpha = 15\n",
    "data = (df1_csr * alpha).astype('double')\n",
    "\n",
    "# Fit the model\n",
    "model.fit(data)"
   ]
  },
  {
   "cell_type": "code",
   "execution_count": 36,
   "metadata": {},
   "outputs": [],
   "source": [
    "product_id = 0\n",
    "n_similar = 10\n",
    "\n",
    "#？？model.user_factors要怎麼查的出來\n",
    "person_vecs = model.user_factors\n",
    "content_vecs = model.item_factors\n",
    "\n",
    "#?\n",
    "content_norms = np.sqrt((content_vecs * content_vecs).sum(axis=1))\n",
    "\n",
    "#?好像是做標準化？\n",
    "scores = content_vecs.dot(content_vecs[product_id]) / content_norms\n",
    "\n",
    "#?\n",
    "top_idx = np.argpartition(scores, -n_similar)[-n_similar:]\n",
    "\n",
    "#?zip 是幹嘛的，similar是相似度\n",
    "similar = sorted(zip(top_idx, scores[top_idx] / content_norms[product_id]), key=lambda x: -x[1])"
   ]
  },
  {
   "cell_type": "code",
   "execution_count": 37,
   "metadata": {},
   "outputs": [
    {
     "data": {
      "text/plain": [
       "[(0, 1.0000001),\n",
       " (1, 1.0000001),\n",
       " (3, 0.24092342),\n",
       " (7, 0.24433595),\n",
       " (14, 0.30832234),\n",
       " (21, 0.22465049),\n",
       " (40, 0.19825564),\n",
       " (50, 0.217635),\n",
       " (63, 1.0),\n",
       " (65, 0.23746976)]"
      ]
     },
     "execution_count": 37,
     "metadata": {},
     "output_type": "execute_result"
    }
   ],
   "source": [
    "sorted(similar)"
   ]
  },
  {
   "cell_type": "code",
   "execution_count": 25,
   "metadata": {},
   "outputs": [
    {
     "ename": "IndexError",
     "evalue": "single positional indexer is out-of-bounds",
     "output_type": "error",
     "traceback": [
      "\u001b[0;31m---------------------------------------------------------------------------\u001b[0m",
      "\u001b[0;31mIndexError\u001b[0m                                Traceback (most recent call last)",
      "\u001b[0;32m<ipython-input-25-d60b68a6f818>\u001b[0m in \u001b[0;36m<module>\u001b[0;34m\u001b[0m\n\u001b[1;32m      1\u001b[0m \u001b[0;32mfor\u001b[0m \u001b[0mcontent\u001b[0m \u001b[0;32min\u001b[0m \u001b[0msimilar\u001b[0m\u001b[0;34m:\u001b[0m\u001b[0;34m\u001b[0m\u001b[0;34m\u001b[0m\u001b[0m\n\u001b[1;32m      2\u001b[0m     \u001b[0midx\u001b[0m\u001b[0;34m,\u001b[0m \u001b[0mscore\u001b[0m \u001b[0;34m=\u001b[0m \u001b[0mcontent\u001b[0m\u001b[0;34m\u001b[0m\u001b[0;34m\u001b[0m\u001b[0m\n\u001b[0;32m----> 3\u001b[0;31m     \u001b[0mprint\u001b[0m\u001b[0;34m(\u001b[0m\u001b[0meslite_db\u001b[0m\u001b[0;34m.\u001b[0m\u001b[0mproduct_name\u001b[0m\u001b[0;34m.\u001b[0m\u001b[0mloc\u001b[0m\u001b[0;34m[\u001b[0m\u001b[0meslite_db\u001b[0m\u001b[0;34m[\u001b[0m\u001b[0;34m[\u001b[0m\u001b[0;34m'member_id'\u001b[0m\u001b[0;34m,\u001b[0m\u001b[0;34m'product_id'\u001b[0m\u001b[0;34m]\u001b[0m\u001b[0;34m]\u001b[0m\u001b[0;34m.\u001b[0m\u001b[0mproduct_id\u001b[0m \u001b[0;34m==\u001b[0m \u001b[0midx\u001b[0m\u001b[0;34m]\u001b[0m\u001b[0;34m.\u001b[0m\u001b[0miloc\u001b[0m\u001b[0;34m[\u001b[0m\u001b[0;36m0\u001b[0m\u001b[0;34m]\u001b[0m\u001b[0;34m)\u001b[0m\u001b[0;34m\u001b[0m\u001b[0;34m\u001b[0m\u001b[0m\n\u001b[0m",
      "\u001b[0;32m/opt/anaconda3/lib/python3.8/site-packages/pandas/core/indexing.py\u001b[0m in \u001b[0;36m__getitem__\u001b[0;34m(self, key)\u001b[0m\n\u001b[1;32m    877\u001b[0m \u001b[0;34m\u001b[0m\u001b[0m\n\u001b[1;32m    878\u001b[0m             \u001b[0mmaybe_callable\u001b[0m \u001b[0;34m=\u001b[0m \u001b[0mcom\u001b[0m\u001b[0;34m.\u001b[0m\u001b[0mapply_if_callable\u001b[0m\u001b[0;34m(\u001b[0m\u001b[0mkey\u001b[0m\u001b[0;34m,\u001b[0m \u001b[0mself\u001b[0m\u001b[0;34m.\u001b[0m\u001b[0mobj\u001b[0m\u001b[0;34m)\u001b[0m\u001b[0;34m\u001b[0m\u001b[0;34m\u001b[0m\u001b[0m\n\u001b[0;32m--> 879\u001b[0;31m             \u001b[0;32mreturn\u001b[0m \u001b[0mself\u001b[0m\u001b[0;34m.\u001b[0m\u001b[0m_getitem_axis\u001b[0m\u001b[0;34m(\u001b[0m\u001b[0mmaybe_callable\u001b[0m\u001b[0;34m,\u001b[0m \u001b[0maxis\u001b[0m\u001b[0;34m=\u001b[0m\u001b[0maxis\u001b[0m\u001b[0;34m)\u001b[0m\u001b[0;34m\u001b[0m\u001b[0;34m\u001b[0m\u001b[0m\n\u001b[0m\u001b[1;32m    880\u001b[0m \u001b[0;34m\u001b[0m\u001b[0m\n\u001b[1;32m    881\u001b[0m     \u001b[0;32mdef\u001b[0m \u001b[0m_is_scalar_access\u001b[0m\u001b[0;34m(\u001b[0m\u001b[0mself\u001b[0m\u001b[0;34m,\u001b[0m \u001b[0mkey\u001b[0m\u001b[0;34m:\u001b[0m \u001b[0mTuple\u001b[0m\u001b[0;34m)\u001b[0m\u001b[0;34m:\u001b[0m\u001b[0;34m\u001b[0m\u001b[0;34m\u001b[0m\u001b[0m\n",
      "\u001b[0;32m/opt/anaconda3/lib/python3.8/site-packages/pandas/core/indexing.py\u001b[0m in \u001b[0;36m_getitem_axis\u001b[0;34m(self, key, axis)\u001b[0m\n\u001b[1;32m   1494\u001b[0m \u001b[0;34m\u001b[0m\u001b[0m\n\u001b[1;32m   1495\u001b[0m             \u001b[0;31m# validate the location\u001b[0m\u001b[0;34m\u001b[0m\u001b[0;34m\u001b[0m\u001b[0;34m\u001b[0m\u001b[0m\n\u001b[0;32m-> 1496\u001b[0;31m             \u001b[0mself\u001b[0m\u001b[0;34m.\u001b[0m\u001b[0m_validate_integer\u001b[0m\u001b[0;34m(\u001b[0m\u001b[0mkey\u001b[0m\u001b[0;34m,\u001b[0m \u001b[0maxis\u001b[0m\u001b[0;34m)\u001b[0m\u001b[0;34m\u001b[0m\u001b[0;34m\u001b[0m\u001b[0m\n\u001b[0m\u001b[1;32m   1497\u001b[0m \u001b[0;34m\u001b[0m\u001b[0m\n\u001b[1;32m   1498\u001b[0m             \u001b[0;32mreturn\u001b[0m \u001b[0mself\u001b[0m\u001b[0;34m.\u001b[0m\u001b[0mobj\u001b[0m\u001b[0;34m.\u001b[0m\u001b[0m_ixs\u001b[0m\u001b[0;34m(\u001b[0m\u001b[0mkey\u001b[0m\u001b[0;34m,\u001b[0m \u001b[0maxis\u001b[0m\u001b[0;34m=\u001b[0m\u001b[0maxis\u001b[0m\u001b[0;34m)\u001b[0m\u001b[0;34m\u001b[0m\u001b[0;34m\u001b[0m\u001b[0m\n",
      "\u001b[0;32m/opt/anaconda3/lib/python3.8/site-packages/pandas/core/indexing.py\u001b[0m in \u001b[0;36m_validate_integer\u001b[0;34m(self, key, axis)\u001b[0m\n\u001b[1;32m   1435\u001b[0m         \u001b[0mlen_axis\u001b[0m \u001b[0;34m=\u001b[0m \u001b[0mlen\u001b[0m\u001b[0;34m(\u001b[0m\u001b[0mself\u001b[0m\u001b[0;34m.\u001b[0m\u001b[0mobj\u001b[0m\u001b[0;34m.\u001b[0m\u001b[0m_get_axis\u001b[0m\u001b[0;34m(\u001b[0m\u001b[0maxis\u001b[0m\u001b[0;34m)\u001b[0m\u001b[0;34m)\u001b[0m\u001b[0;34m\u001b[0m\u001b[0;34m\u001b[0m\u001b[0m\n\u001b[1;32m   1436\u001b[0m         \u001b[0;32mif\u001b[0m \u001b[0mkey\u001b[0m \u001b[0;34m>=\u001b[0m \u001b[0mlen_axis\u001b[0m \u001b[0;32mor\u001b[0m \u001b[0mkey\u001b[0m \u001b[0;34m<\u001b[0m \u001b[0;34m-\u001b[0m\u001b[0mlen_axis\u001b[0m\u001b[0;34m:\u001b[0m\u001b[0;34m\u001b[0m\u001b[0;34m\u001b[0m\u001b[0m\n\u001b[0;32m-> 1437\u001b[0;31m             \u001b[0;32mraise\u001b[0m \u001b[0mIndexError\u001b[0m\u001b[0;34m(\u001b[0m\u001b[0;34m\"single positional indexer is out-of-bounds\"\u001b[0m\u001b[0;34m)\u001b[0m\u001b[0;34m\u001b[0m\u001b[0;34m\u001b[0m\u001b[0m\n\u001b[0m\u001b[1;32m   1438\u001b[0m \u001b[0;34m\u001b[0m\u001b[0m\n\u001b[1;32m   1439\u001b[0m     \u001b[0;31m# -------------------------------------------------------------------\u001b[0m\u001b[0;34m\u001b[0m\u001b[0;34m\u001b[0m\u001b[0;34m\u001b[0m\u001b[0m\n",
      "\u001b[0;31mIndexError\u001b[0m: single positional indexer is out-of-bounds"
     ]
    }
   ],
   "source": [
    "for content in similar:\n",
    "    idx, score = content\n",
    "    print(eslite_db.product_name.loc[eslite_db[['member_id','product_id']].product_id == idx].iloc[0])"
   ]
  },
  {
   "cell_type": "code",
   "execution_count": null,
   "metadata": {},
   "outputs": [],
   "source": [
    "def recommend(person_id, mem_prod_df1_csr, person_vecs, content_vecs, num_contents=10):\n",
    "    # Get the interactions scores from the sparse person content matrix\n",
    "    person_interactions = mem_prod_df1_csr[person_id,:].toarray()\n",
    "    # Add 1 to everything, so that articles with no interaction yet become equal to 1\n",
    "    person_interactions = person_interactions.reshape(-1) + 1\n",
    "    # Make articles already interacted zero\n",
    "    person_interactions[person_interactions > 1] = 0\n",
    "    # Get dot product of person vector and all content vectors（specific person all content vecs)\n",
    "    rec_vector = person_vecs[person_id,:].dot(content_vecs.T).toarray()\n",
    "    \n",
    "    # Scale this recommendation vector between 0 and 1\n",
    "    min_max = MinMaxScaler()\n",
    "    #?\n",
    "    rec_vector_scaled = min_max.fit_transform(rec_vector.reshape(-1,1))[:,0]\n",
    "    # Content already interacted have their recommendation multiplied by zero ??\n",
    "    recommend_vector = person_interactions * rec_vector_scaled   ##why miltiple rec_vector_scaled ??\n",
    "    # Sort the indices of the content into order of best recommendations   ##argsort??\n",
    "    content_idx = np.argsort(recommend_vector)[::-1][:num_contents]\n",
    "    \n",
    "    # Start empty list to store titles and scores\n",
    "    titles = []\n",
    "    scores = []\n",
    "\n",
    "    for idx in content_idx:\n",
    "        # Append titles and scores to the list\n",
    "        titles.append(grouped_df.title.loc[grouped_df.content_id == idx].iloc[0])\n",
    "        scores.append(recommend_vector[idx])\n",
    "\n",
    "    recommendations = pd.DataFrame({'title': titles, 'score': scores})\n",
    "\n",
    "    return recommendations"
   ]
  },
  {
   "cell_type": "code",
   "execution_count": null,
   "metadata": {},
   "outputs": [],
   "source": []
  },
  {
   "cell_type": "code",
   "execution_count": null,
   "metadata": {},
   "outputs": [],
   "source": []
  },
  {
   "cell_type": "code",
   "execution_count": null,
   "metadata": {},
   "outputs": [],
   "source": []
  },
  {
   "cell_type": "code",
   "execution_count": null,
   "metadata": {},
   "outputs": [],
   "source": []
  },
  {
   "cell_type": "code",
   "execution_count": null,
   "metadata": {},
   "outputs": [],
   "source": []
  },
  {
   "cell_type": "code",
   "execution_count": null,
   "metadata": {},
   "outputs": [],
   "source": []
  },
  {
   "cell_type": "code",
   "execution_count": null,
   "metadata": {},
   "outputs": [],
   "source": []
  },
  {
   "cell_type": "code",
   "execution_count": null,
   "metadata": {},
   "outputs": [],
   "source": []
  },
  {
   "cell_type": "code",
   "execution_count": null,
   "metadata": {},
   "outputs": [],
   "source": []
  },
  {
   "cell_type": "code",
   "execution_count": null,
   "metadata": {},
   "outputs": [],
   "source": []
  },
  {
   "cell_type": "code",
   "execution_count": null,
   "metadata": {},
   "outputs": [],
   "source": []
  },
  {
   "cell_type": "code",
   "execution_count": null,
   "metadata": {},
   "outputs": [],
   "source": []
  },
  {
   "cell_type": "code",
   "execution_count": null,
   "metadata": {},
   "outputs": [],
   "source": []
  },
  {
   "cell_type": "code",
   "execution_count": null,
   "metadata": {},
   "outputs": [],
   "source": []
  },
  {
   "cell_type": "code",
   "execution_count": null,
   "metadata": {},
   "outputs": [],
   "source": []
  }
 ],
 "metadata": {
  "kernelspec": {
   "display_name": "Python 3",
   "language": "python",
   "name": "python3"
  },
  "language_info": {
   "codemirror_mode": {
    "name": "ipython",
    "version": 3
   },
   "file_extension": ".py",
   "mimetype": "text/x-python",
   "name": "python",
   "nbconvert_exporter": "python",
   "pygments_lexer": "ipython3",
   "version": "3.8.5"
  }
 },
 "nbformat": 4,
 "nbformat_minor": 4
}
